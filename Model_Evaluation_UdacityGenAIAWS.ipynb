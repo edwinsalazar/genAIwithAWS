{
  "cells": [
    {
      "cell_type": "markdown",
      "metadata": {
        "id": "view-in-github",
        "colab_type": "text"
      },
      "source": [
        "<a href=\"https://colab.research.google.com/github/edwinsalazar/genAIwithAWS/blob/main/Model_Evaluation_UdacityGenAIAWS.ipynb\" target=\"_parent\"><img src=\"https://colab.research.google.com/assets/colab-badge.svg\" alt=\"Open In Colab\"/></a>"
      ]
    },
    {
      "cell_type": "markdown",
      "metadata": {
        "id": "TbWuJLtkhoNE"
      },
      "source": [
        "#### Step 3: LLM Model Evaluation"
      ]
    },
    {
      "cell_type": "markdown",
      "metadata": {
        "id": "MhbfgsUlhoNF"
      },
      "source": [
        "In this notebook, you'll deploy the Meta Llama 2 7B model and evaluate it's text generation capabilities and domain knowledge. You'll use the SageMaker Python SDK for Foundation Models and deploy the model for inference.\n",
        "\n",
        "The Llama 2 7B Foundation model performs the task of text generation. It takes a text string as input and predicts next words in the sequence."
      ]
    },
    {
      "cell_type": "markdown",
      "metadata": {
        "id": "8TBgtnzAhoNF"
      },
      "source": [
        "#### Set Up\n",
        "There are some initial steps required for setup. If you recieve warnings after running these cells, you can ignore them as they won't impact the code running in the notebook. Run the cell below to ensure you're using the latest version of the Sagemaker Python client library. Restart the Kernel after you run this cell."
      ]
    },
    {
      "cell_type": "code",
      "execution_count": 1,
      "metadata": {
        "tags": [],
        "id": "4a8Xr6UAhoNF"
      },
      "outputs": [],
      "source": [
        "!pip install ipywidgets --quiet\n",
        "!pip install --upgrade sagemaker datasets --quiet\n",
        "!pip install awscli --quiet"
      ]
    },
    {
      "cell_type": "markdown",
      "metadata": {
        "id": "i29jexIEhoNF"
      },
      "source": [
        "To deploy the model on Amazon Sagemaker, we need to setup and authenticate the use of AWS services. Yo'll uuse the execution role associated with the current notebook instance as the AWS account role with SageMaker access. Validate your role is the Sagemaker IAM role you created for the project by running the next cell."
      ]
    },
    {
      "cell_type": "code",
      "execution_count": 21,
      "metadata": {
        "tags": [],
        "colab": {
          "base_uri": "https://localhost:8080/"
        },
        "id": "-LGeISOqhoNF",
        "outputId": "1a2bc114-41f1-4866-f195-5de8e06c7437"
      },
      "outputs": [
        {
          "output_type": "stream",
          "name": "stderr",
          "text": [
            "WARNING:sagemaker:Couldn't call 'get_role' to get Role ARN from role name googlecolab to get Role path.\n"
          ]
        },
        {
          "output_type": "stream",
          "name": "stdout",
          "text": [
            "arn:aws:iam::317957367373:user/googlecolab\n",
            "us-east-1\n",
            "<sagemaker.session.Session object at 0x7cb8458e1600>\n"
          ]
        }
      ],
      "source": [
        "import sagemaker, boto3, json\n",
        "from sagemaker.session import Session\n",
        "from sagemaker.jumpstart.model import JumpStartModel\n",
        "\n",
        "sagemaker_session = Session()\n",
        "aws_role = sagemaker_session.get_caller_identity_arn()\n",
        "aws_region = boto3.Session().region_name\n",
        "sess = sagemaker.Session()\n",
        "print(aws_role)\n",
        "print(aws_region)\n",
        "print(sess)"
      ]
    },
    {
      "cell_type": "markdown",
      "metadata": {
        "id": "n-79ct9qhoNG"
      },
      "source": [
        "## 2. Select Text Generation Model Meta Llama 2 7B\n",
        "Run the next cell to set variables that contain the values of the name of the model we want to load and the version of the model ."
      ]
    },
    {
      "cell_type": "code",
      "execution_count": 22,
      "metadata": {
        "tags": [],
        "id": "beXpoS1NhoNG"
      },
      "outputs": [],
      "source": [
        "(model_id, model_version,) = (\"meta-textgeneration-llama-2-7b\",\"2.*\",)"
      ]
    },
    {
      "cell_type": "markdown",
      "metadata": {
        "id": "vhMivmEwhoNG"
      },
      "source": [
        "Running the next cell deploys the model\n",
        "This Python code is used to deploy a machine learning model using Amazon SageMaker's JumpStart library.\n",
        "\n",
        "1. Import the `JumpStartModel` class from the `sagemaker.jumpstart.model` module.\n",
        "\n",
        "2. Create an instance of the `JumpStartModel` class using the `model_id` and `model_version` variables created in the previous cell. This object represents the machine learning model you want to deploy.\n",
        "\n",
        "3. Call the `deploy` method on the `JumpStartModel` instance. This method deploys the model on Amazon SageMaker and returns a `Predictor` object.\n",
        "\n",
        "The `Predictor` object (`predictor`) can be used to make predictions with the deployed model. The `deploy` method will automatically choose an endpoint name, instance type, and other deployment parameters. If you want to specify these parameters, you can pass them as arguments to the `deploy` method.\n",
        "\n",
        "**The next cell will take some time to run.**  It is deploying a large language model, and that takes time.  You'll see dashes (--) while it is being deployed.  Please be patient! You'll see an exclamation point at the end of the dashes (---!) when the model is deployed and then you can continue running the next cells.  \n",
        "\n",
        "You might see a warning \"For forward compatibility, pin to model_version...\" You can ignore this warning, just wait for the model to deploy.\n"
      ]
    },
    {
      "cell_type": "code",
      "execution_count": 35,
      "metadata": {
        "tags": [],
        "colab": {
          "base_uri": "https://localhost:8080/",
          "height": 775
        },
        "id": "tl9pmll3hoNG",
        "outputId": "b6667890-2c6c-41e7-fe86-60047358c9c1"
      },
      "outputs": [
        {
          "output_type": "stream",
          "name": "stdout",
          "text": [
            "{\n",
            "    \"RequestedQuotas\": [\n",
            "        {\n",
            "            \"Id\": \"ea51bc44ab844acba108e357161a81d5nEnepkfH\",\n",
            "            \"CaseId\": \"172790884200362\",\n",
            "            \"ServiceCode\": \"sagemaker\",\n",
            "            \"ServiceName\": \"Amazon SageMaker\",\n",
            "            \"QuotaCode\": \"L-0A6E4205\",\n",
            "            \"QuotaName\": \"ml.g5.4xlarge for processing job usage\",\n",
            "            \"DesiredValue\": 2.0,\n",
            "            \"Status\": \"CASE_OPENED\",\n",
            "            \"Created\": 1727908835.505,\n",
            "            \"LastUpdated\": 1727908845.103,\n",
            "            \"Requester\": \"{\\\"accountId\\\":\\\"317957367373\\\",\\\"callerArn\\\":\\\"arn:aws:iam::317957367373:user/googlecolab\\\"}\",\n",
            "            \"QuotaArn\": \"arn:aws:servicequotas:us-east-1:317957367373:sagemaker/L-0A6E4205\",\n",
            "            \"GlobalQuota\": false,\n",
            "            \"Unit\": \"None\",\n",
            "            \"QuotaRequestedAtLevel\": \"ACCOUNT\"\n",
            "        }\n",
            "    ]\n",
            "}\n"
          ]
        },
        {
          "output_type": "stream",
          "name": "stderr",
          "text": [
            "ERROR:sagemaker:Please check the troubleshooting guide for common errors: https://docs.aws.amazon.com/sagemaker/latest/dg/sagemaker-python-sdk-troubleshooting.html#sagemaker-python-sdk-troubleshooting-create-endpoint\n"
          ]
        },
        {
          "output_type": "error",
          "ename": "ResourceLimitExceeded",
          "evalue": "An error occurred (ResourceLimitExceeded) when calling the CreateEndpoint operation: The account-level service limit 'ml.g5.2xlarge for endpoint usage' is 0 Instances, with current utilization of 0 Instances and a request delta of 1 Instances. Please use AWS Service Quotas to request an increase for this quota. If AWS Service Quotas is not available, contact AWS support to request an increase for this quota.",
          "traceback": [
            "\u001b[0;31m---------------------------------------------------------------------------\u001b[0m",
            "\u001b[0;31mResourceLimitExceeded\u001b[0m                     Traceback (most recent call last)",
            "\u001b[0;32m<ipython-input-35-82cf05e8eeb6>\u001b[0m in \u001b[0;36m<cell line: 16>\u001b[0;34m()\u001b[0m\n\u001b[1;32m     14\u001b[0m     \u001b[0mrole\u001b[0m\u001b[0;34m=\u001b[0m\u001b[0mrole_arn\u001b[0m\u001b[0;34m\u001b[0m\u001b[0;34m\u001b[0m\u001b[0m\n\u001b[1;32m     15\u001b[0m )\n\u001b[0;32m---> 16\u001b[0;31m \u001b[0mpredictor\u001b[0m \u001b[0;34m=\u001b[0m \u001b[0mmodel\u001b[0m\u001b[0;34m.\u001b[0m\u001b[0mdeploy\u001b[0m\u001b[0;34m(\u001b[0m\u001b[0;34m)\u001b[0m\u001b[0;34m\u001b[0m\u001b[0;34m\u001b[0m\u001b[0m\n\u001b[0m\u001b[1;32m     17\u001b[0m \u001b[0mprint\u001b[0m\u001b[0;34m(\u001b[0m\u001b[0;34mf\"Model deployed with role: {role_arn}\"\u001b[0m\u001b[0;34m)\u001b[0m\u001b[0;34m\u001b[0m\u001b[0;34m\u001b[0m\u001b[0m\n",
            "\u001b[0;32m/usr/local/lib/python3.10/dist-packages/sagemaker/jumpstart/model.py\u001b[0m in \u001b[0;36mdeploy\u001b[0;34m(self, initial_instance_count, instance_type, serializer, deserializer, accelerator_type, endpoint_name, inference_component_name, tags, kms_key, wait, data_capture_config, async_inference_config, serverless_inference_config, volume_size, model_data_download_timeout, container_startup_health_check_timeout, inference_recommendation_id, explainer_config, accept_eula, endpoint_logging, resources, managed_instance_scaling, endpoint_type, routing_config)\u001b[0m\n\u001b[1;32m    804\u001b[0m \u001b[0;34m\u001b[0m\u001b[0m\n\u001b[1;32m    805\u001b[0m         \u001b[0;32mtry\u001b[0m\u001b[0;34m:\u001b[0m\u001b[0;34m\u001b[0m\u001b[0;34m\u001b[0m\u001b[0m\n\u001b[0;32m--> 806\u001b[0;31m             \u001b[0mpredictor\u001b[0m \u001b[0;34m=\u001b[0m \u001b[0msuper\u001b[0m\u001b[0;34m(\u001b[0m\u001b[0mJumpStartModel\u001b[0m\u001b[0;34m,\u001b[0m \u001b[0mself\u001b[0m\u001b[0;34m)\u001b[0m\u001b[0;34m.\u001b[0m\u001b[0mdeploy\u001b[0m\u001b[0;34m(\u001b[0m\u001b[0;34m**\u001b[0m\u001b[0mdeploy_kwargs\u001b[0m\u001b[0;34m.\u001b[0m\u001b[0mto_kwargs_dict\u001b[0m\u001b[0;34m(\u001b[0m\u001b[0;34m)\u001b[0m\u001b[0;34m)\u001b[0m\u001b[0;34m\u001b[0m\u001b[0;34m\u001b[0m\u001b[0m\n\u001b[0m\u001b[1;32m    807\u001b[0m         \u001b[0;32mexcept\u001b[0m \u001b[0mClientError\u001b[0m \u001b[0;32mas\u001b[0m \u001b[0me\u001b[0m\u001b[0;34m:\u001b[0m\u001b[0;34m\u001b[0m\u001b[0;34m\u001b[0m\u001b[0m\n\u001b[1;32m    808\u001b[0m             subscription_link = verify_model_region_and_return_specs(\n",
            "\u001b[0;32m/usr/local/lib/python3.10/dist-packages/sagemaker/model.py\u001b[0m in \u001b[0;36mdeploy\u001b[0;34m(self, initial_instance_count, instance_type, serializer, deserializer, accelerator_type, endpoint_name, tags, kms_key, wait, data_capture_config, async_inference_config, serverless_inference_config, volume_size, model_data_download_timeout, container_startup_health_check_timeout, inference_recommendation_id, explainer_config, accept_eula, endpoint_logging, resources, endpoint_type, managed_instance_scaling, inference_component_name, routing_config, model_reference_arn, **kwargs)\u001b[0m\n\u001b[1;32m   1751\u001b[0m                 \u001b[0mexplainer_config_dict\u001b[0m \u001b[0;34m=\u001b[0m \u001b[0mexplainer_config\u001b[0m\u001b[0;34m.\u001b[0m\u001b[0m_to_request_dict\u001b[0m\u001b[0;34m(\u001b[0m\u001b[0;34m)\u001b[0m\u001b[0;34m\u001b[0m\u001b[0;34m\u001b[0m\u001b[0m\n\u001b[1;32m   1752\u001b[0m \u001b[0;34m\u001b[0m\u001b[0m\n\u001b[0;32m-> 1753\u001b[0;31m             self.sagemaker_session.endpoint_from_production_variants(\n\u001b[0m\u001b[1;32m   1754\u001b[0m                 \u001b[0mname\u001b[0m\u001b[0;34m=\u001b[0m\u001b[0mself\u001b[0m\u001b[0;34m.\u001b[0m\u001b[0mendpoint_name\u001b[0m\u001b[0;34m,\u001b[0m\u001b[0;34m\u001b[0m\u001b[0;34m\u001b[0m\u001b[0m\n\u001b[1;32m   1755\u001b[0m                 \u001b[0mproduction_variants\u001b[0m\u001b[0;34m=\u001b[0m\u001b[0;34m[\u001b[0m\u001b[0mproduction_variant\u001b[0m\u001b[0;34m]\u001b[0m\u001b[0;34m,\u001b[0m\u001b[0;34m\u001b[0m\u001b[0;34m\u001b[0m\u001b[0m\n",
            "\u001b[0;32m/usr/local/lib/python3.10/dist-packages/sagemaker/session.py\u001b[0m in \u001b[0;36mendpoint_from_production_variants\u001b[0;34m(self, name, production_variants, tags, kms_key, wait, data_capture_config_dict, async_inference_config_dict, explainer_config_dict, live_logging, vpc_config, enable_network_isolation, role)\u001b[0m\n\u001b[1;32m   5818\u001b[0m         \u001b[0mself\u001b[0m\u001b[0;34m.\u001b[0m\u001b[0msagemaker_client\u001b[0m\u001b[0;34m.\u001b[0m\u001b[0mcreate_endpoint_config\u001b[0m\u001b[0;34m(\u001b[0m\u001b[0;34m**\u001b[0m\u001b[0mconfig_options\u001b[0m\u001b[0;34m)\u001b[0m\u001b[0;34m\u001b[0m\u001b[0;34m\u001b[0m\u001b[0m\n\u001b[1;32m   5819\u001b[0m \u001b[0;34m\u001b[0m\u001b[0m\n\u001b[0;32m-> 5820\u001b[0;31m         return self.create_endpoint(\n\u001b[0m\u001b[1;32m   5821\u001b[0m             \u001b[0mendpoint_name\u001b[0m\u001b[0;34m=\u001b[0m\u001b[0mname\u001b[0m\u001b[0;34m,\u001b[0m\u001b[0;34m\u001b[0m\u001b[0;34m\u001b[0m\u001b[0m\n\u001b[1;32m   5822\u001b[0m             \u001b[0mconfig_name\u001b[0m\u001b[0;34m=\u001b[0m\u001b[0mname\u001b[0m\u001b[0;34m,\u001b[0m\u001b[0;34m\u001b[0m\u001b[0;34m\u001b[0m\u001b[0m\n",
            "\u001b[0;32m/usr/local/lib/python3.10/dist-packages/sagemaker/session.py\u001b[0m in \u001b[0;36mcreate_endpoint\u001b[0;34m(self, endpoint_name, config_name, tags, wait, live_logging)\u001b[0m\n\u001b[1;32m   4663\u001b[0m                 \u001b[0;34m\"Please check the troubleshooting guide for common errors: %s\"\u001b[0m\u001b[0;34m,\u001b[0m \u001b[0mtroubleshooting\u001b[0m\u001b[0;34m\u001b[0m\u001b[0;34m\u001b[0m\u001b[0m\n\u001b[1;32m   4664\u001b[0m             )\n\u001b[0;32m-> 4665\u001b[0;31m             \u001b[0;32mraise\u001b[0m \u001b[0me\u001b[0m\u001b[0;34m\u001b[0m\u001b[0;34m\u001b[0m\u001b[0m\n\u001b[0m\u001b[1;32m   4666\u001b[0m \u001b[0;34m\u001b[0m\u001b[0m\n\u001b[1;32m   4667\u001b[0m     \u001b[0;32mdef\u001b[0m \u001b[0mendpoint_in_service_or_not\u001b[0m\u001b[0;34m(\u001b[0m\u001b[0mself\u001b[0m\u001b[0;34m,\u001b[0m \u001b[0mendpoint_name\u001b[0m\u001b[0;34m:\u001b[0m \u001b[0mstr\u001b[0m\u001b[0;34m)\u001b[0m\u001b[0;34m:\u001b[0m\u001b[0;34m\u001b[0m\u001b[0;34m\u001b[0m\u001b[0m\n",
            "\u001b[0;32m/usr/local/lib/python3.10/dist-packages/sagemaker/session.py\u001b[0m in \u001b[0;36mcreate_endpoint\u001b[0;34m(self, endpoint_name, config_name, tags, wait, live_logging)\u001b[0m\n\u001b[1;32m   4645\u001b[0m         )\n\u001b[1;32m   4646\u001b[0m         \u001b[0;32mtry\u001b[0m\u001b[0;34m:\u001b[0m\u001b[0;34m\u001b[0m\u001b[0;34m\u001b[0m\u001b[0m\n\u001b[0;32m-> 4647\u001b[0;31m             res = self.sagemaker_client.create_endpoint(\n\u001b[0m\u001b[1;32m   4648\u001b[0m                 \u001b[0mEndpointName\u001b[0m\u001b[0;34m=\u001b[0m\u001b[0mendpoint_name\u001b[0m\u001b[0;34m,\u001b[0m \u001b[0mEndpointConfigName\u001b[0m\u001b[0;34m=\u001b[0m\u001b[0mconfig_name\u001b[0m\u001b[0;34m,\u001b[0m \u001b[0mTags\u001b[0m\u001b[0;34m=\u001b[0m\u001b[0mtags\u001b[0m\u001b[0;34m\u001b[0m\u001b[0;34m\u001b[0m\u001b[0m\n\u001b[1;32m   4649\u001b[0m             )\n",
            "\u001b[0;32m/usr/local/lib/python3.10/dist-packages/botocore/client.py\u001b[0m in \u001b[0;36m_api_call\u001b[0;34m(self, *args, **kwargs)\u001b[0m\n\u001b[1;32m    567\u001b[0m                 )\n\u001b[1;32m    568\u001b[0m             \u001b[0;31m# The \"self\" in this scope is referring to the BaseClient.\u001b[0m\u001b[0;34m\u001b[0m\u001b[0;34m\u001b[0m\u001b[0m\n\u001b[0;32m--> 569\u001b[0;31m             \u001b[0;32mreturn\u001b[0m \u001b[0mself\u001b[0m\u001b[0;34m.\u001b[0m\u001b[0m_make_api_call\u001b[0m\u001b[0;34m(\u001b[0m\u001b[0moperation_name\u001b[0m\u001b[0;34m,\u001b[0m \u001b[0mkwargs\u001b[0m\u001b[0;34m)\u001b[0m\u001b[0;34m\u001b[0m\u001b[0;34m\u001b[0m\u001b[0m\n\u001b[0m\u001b[1;32m    570\u001b[0m \u001b[0;34m\u001b[0m\u001b[0m\n\u001b[1;32m    571\u001b[0m         \u001b[0m_api_call\u001b[0m\u001b[0;34m.\u001b[0m\u001b[0m__name__\u001b[0m \u001b[0;34m=\u001b[0m \u001b[0mstr\u001b[0m\u001b[0;34m(\u001b[0m\u001b[0mpy_operation_name\u001b[0m\u001b[0;34m)\u001b[0m\u001b[0;34m\u001b[0m\u001b[0;34m\u001b[0m\u001b[0m\n",
            "\u001b[0;32m/usr/local/lib/python3.10/dist-packages/botocore/client.py\u001b[0m in \u001b[0;36m_make_api_call\u001b[0;34m(self, operation_name, api_params)\u001b[0m\n\u001b[1;32m   1021\u001b[0m             )\n\u001b[1;32m   1022\u001b[0m             \u001b[0merror_class\u001b[0m \u001b[0;34m=\u001b[0m \u001b[0mself\u001b[0m\u001b[0;34m.\u001b[0m\u001b[0mexceptions\u001b[0m\u001b[0;34m.\u001b[0m\u001b[0mfrom_code\u001b[0m\u001b[0;34m(\u001b[0m\u001b[0merror_code\u001b[0m\u001b[0;34m)\u001b[0m\u001b[0;34m\u001b[0m\u001b[0;34m\u001b[0m\u001b[0m\n\u001b[0;32m-> 1023\u001b[0;31m             \u001b[0;32mraise\u001b[0m \u001b[0merror_class\u001b[0m\u001b[0;34m(\u001b[0m\u001b[0mparsed_response\u001b[0m\u001b[0;34m,\u001b[0m \u001b[0moperation_name\u001b[0m\u001b[0;34m)\u001b[0m\u001b[0;34m\u001b[0m\u001b[0;34m\u001b[0m\u001b[0m\n\u001b[0m\u001b[1;32m   1024\u001b[0m         \u001b[0;32melse\u001b[0m\u001b[0;34m:\u001b[0m\u001b[0;34m\u001b[0m\u001b[0;34m\u001b[0m\u001b[0m\n\u001b[1;32m   1025\u001b[0m             \u001b[0;32mreturn\u001b[0m \u001b[0mparsed_response\u001b[0m\u001b[0;34m\u001b[0m\u001b[0;34m\u001b[0m\u001b[0m\n",
            "\u001b[0;31mResourceLimitExceeded\u001b[0m: An error occurred (ResourceLimitExceeded) when calling the CreateEndpoint operation: The account-level service limit 'ml.g5.2xlarge for endpoint usage' is 0 Instances, with current utilization of 0 Instances and a request delta of 1 Instances. Please use AWS Service Quotas to request an increase for this quota. If AWS Service Quotas is not available, contact AWS support to request an increase for this quota."
          ]
        }
      ],
      "source": [
        "from sagemaker.jumpstart.model import JumpStartModel\n",
        "import boto3\n",
        "role_arn = \"arn:aws:iam::317957367373:role/SageMakerExecutionRole\"\n",
        "\n",
        "!aws service-quotas list-requested-service-quota-change-history-by-quota \\\n",
        "    --service-code sagemaker \\\n",
        "    --quota-code L-0A6E4205 \\\n",
        "    --region us-east-1\n",
        "\n",
        "model_id = \"meta-textgeneration-llama-2-7b\"\n",
        "model_version = \"2.1.8\"\n",
        "\n",
        "model = JumpStartModel(\n",
        "    model_id=model_id,\n",
        "    model_version=model_version,\n",
        "    instance_type=\"ml.g5.2xlarge\",\n",
        "    role=role_arn\n",
        ")\n",
        "predictor = model.deploy()\n",
        "print(f\"Model deployed with role: {role_arn}\")"
      ]
    },
    {
      "cell_type": "markdown",
      "metadata": {
        "id": "huBP5kXthoNG"
      },
      "source": [
        "#### Invoke the endpoint, query and parse response\n",
        "The next step is to invoke the model endpoint, send a query to the endpoint, and recieve a response from the model.\n",
        "\n",
        "Running the next cell defines a function that will be used to parse and print the response from the model."
      ]
    },
    {
      "cell_type": "code",
      "execution_count": null,
      "metadata": {
        "tags": [],
        "id": "qca0jF2ohoNG"
      },
      "outputs": [],
      "source": [
        "def print_response(payload, response):\n",
        "    print(payload[\"inputs\"])\n",
        "    print(f\"> {response[0]['generation']}\")\n",
        "    print(\"\\n==================================\\n\")"
      ]
    },
    {
      "cell_type": "markdown",
      "metadata": {
        "id": "mUMTRM7ahoNG"
      },
      "source": [
        "The model takes a text string as input and predicts next words in the sequence, the input we send it is the prompt.\n",
        "\n",
        "The prompt we send the model should relate to the domain we'd like to fine-tune the model on.  This way we'll identify the model's domain knowledge before it's fine-tuned, and then we can run the same prompts on the fine-tuned model.   \n",
        "\n",
        "**Replace \"inputs\"** in the next cell with the input to send the model based on the domain you've chosen.\n",
        "\n",
        "**For financial domain:**\n",
        "\n",
        "  \"inputs\": \"Replace with sentence below\"  \n",
        "- \"The  investment  tests  performed  indicate\"\n",
        "- \"the  relative  volume  for  the  long  out  of  the  money  options, indicates\"\n",
        "- \"The  results  for  the  short  in  the  money  options\"\n",
        "- \"The  results  are  encouraging  for  aggressive  investors\"\n",
        "\n",
        "**For medical domain:**\n",
        "\n",
        "  \"inputs\": \"Replace with sentence below\"\n",
        "- \"Myeloid neoplasms and acute leukemias derive from\"\n",
        "- \"Genomic characterization is essential for\"\n",
        "- \"Certain germline disorders may be associated with\"\n",
        "- \"In contrast to targeted approaches, genome-wide sequencing\"\n",
        "\n",
        "**For IT domain:**\n",
        "\n",
        "  \"inputs\": \"Replace with sentence below\"\n",
        "- \"Traditional approaches to data management such as\"\n",
        "- \"A second important aspect of ubiquitous computing environments is\"\n",
        "- \"because ubiquitous computing is intended to\"\n",
        "- \"outline the key aspects of ubiquitous computing from a data management perspective.\""
      ]
    },
    {
      "cell_type": "code",
      "execution_count": null,
      "metadata": {
        "tags": [],
        "id": "a40rjjUOhoNG"
      },
      "outputs": [],
      "source": [
        "payload = {\n",
        "    \"inputs\": \"The investment tests performed indicate\",\n",
        "    \"parameters\": {\n",
        "        \"max_new_tokens\": 64,\n",
        "        \"top_p\": 0.9,\n",
        "        \"temperature\": 0.6,\n",
        "        \"return_full_text\": False,\n",
        "    },\n",
        "}\n",
        "try:\n",
        "    response = predictor.predict(payload, custom_attributes=\"accept_eula=true\")\n",
        "    print_response(payload, response)\n",
        "except Exception as e:\n",
        "    print(e)"
      ]
    },
    {
      "cell_type": "markdown",
      "metadata": {
        "id": "60jdO3W-hoNG"
      },
      "source": [
        "The prompt is related to the domain you want to fine-tune your model on. You will see the outputs from the model without fine-tuning are limited in providing insightful or relevant content.\n",
        "\n",
        "**Use the output from this notebook to fill out the \"model evaluation\" section of the project documentation report**\n",
        "\n",
        "Take a screenshot of this file with the cell output for your project documentation report. Download it with cell output by making sure you used Save on the notebook before downloading\n",
        "\n",
        "**After you've filled out the report, run the cells below to delete the model deployment**\n",
        "\n",
        "`IF YOU FAIL TO RUN THE CELLS BELOW YOU WILL RUN OUT OF BUDGET TO COMPLETE THE PROJECT`"
      ]
    },
    {
      "cell_type": "code",
      "execution_count": null,
      "metadata": {
        "tags": [],
        "id": "U2T6o8FChoNG"
      },
      "outputs": [],
      "source": [
        "# Delete the SageMaker endpoint and the attached resources\n",
        "predictor.delete_model()\n",
        "predictor.delete_endpoint()"
      ]
    },
    {
      "cell_type": "markdown",
      "metadata": {
        "id": "TnRRBz__hoNG"
      },
      "source": [
        "Verify your model endpoint was deleted by visiting the Sagemaker dashboard and choosing `endpoints` under 'Inference' in the left navigation menu.  If you see your endpoint still there, choose the endpoint, and then under \"Actions\" select **Delete**"
      ]
    }
  ],
  "metadata": {
    "kernelspec": {
      "display_name": "conda_pytorch_p310",
      "language": "python",
      "name": "conda_pytorch_p310"
    },
    "language_info": {
      "codemirror_mode": {
        "name": "ipython",
        "version": 3
      },
      "file_extension": ".py",
      "mimetype": "text/x-python",
      "name": "python",
      "nbconvert_exporter": "python",
      "pygments_lexer": "ipython3",
      "version": "3.10.13"
    },
    "colab": {
      "provenance": [],
      "include_colab_link": true
    }
  },
  "nbformat": 4,
  "nbformat_minor": 0
}